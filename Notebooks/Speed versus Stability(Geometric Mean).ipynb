{
 "cells": [
  {
   "cell_type": "markdown",
   "metadata": {},
   "source": [
    "It's useful to have a *rough* idea of the speed of arithmetic operations.  Let's do some *numpy* timings using the *timeit* feature.  We'll give it some larger arrays to work with so that we use system resources adequately.\n",
    "\n",
    "The usual preamble"
   ]
  },
  {
   "cell_type": "code",
   "execution_count": 1,
   "metadata": {
    "collapsed": true
   },
   "outputs": [],
   "source": [
    "import numpy as np\n",
    "from math import pow\n",
    "from math import log\n",
    "from math import exp\n",
    "from math import fsum\n",
    "import sys\n",
    "from scipy.stats import gmean as gm\n",
    "import random"
   ]
  },
  {
   "cell_type": "code",
   "execution_count": 2,
   "metadata": {},
   "outputs": [
    {
     "name": "stdout",
     "output_type": "stream",
     "text": [
      "The slowest run took 138.58 times longer than the fastest. This could mean that an intermediate result is being cached.\n",
      "100000 loops, best of 3: 2.57 µs per loop\n"
     ]
    }
   ],
   "source": [
    "%%timeit a=np.random.rand(1000);b=np.random.rand(1000); \n",
    "np.add(a,b)"
   ]
  },
  {
   "cell_type": "code",
   "execution_count": 3,
   "metadata": {},
   "outputs": [
    {
     "name": "stdout",
     "output_type": "stream",
     "text": [
      "The slowest run took 23.17 times longer than the fastest. This could mean that an intermediate result is being cached.\n",
      "100000 loops, best of 3: 2.58 µs per loop\n"
     ]
    }
   ],
   "source": [
    "%%timeit a=np.random.rand(1000);b=np.random.rand(1000);\n",
    "np.multiply(a,b)"
   ]
  },
  {
   "cell_type": "code",
   "execution_count": 4,
   "metadata": {},
   "outputs": [
    {
     "name": "stdout",
     "output_type": "stream",
     "text": [
      "The slowest run took 17.97 times longer than the fastest. This could mean that an intermediate result is being cached.\n",
      "100000 loops, best of 3: 2.25 µs per loop\n"
     ]
    }
   ],
   "source": [
    "%%timeit a=np.random.rand(1000);b=np.random.rand(1000)\n",
    "a>b"
   ]
  },
  {
   "cell_type": "code",
   "execution_count": 5,
   "metadata": {},
   "outputs": [
    {
     "name": "stdout",
     "output_type": "stream",
     "text": [
      "The slowest run took 10.21 times longer than the fastest. This could mean that an intermediate result is being cached.\n",
      "100000 loops, best of 3: 9.78 µs per loop\n"
     ]
    }
   ],
   "source": [
    "%%timeit a=np.random.rand(1000);b=np.random.rand(1000);\n",
    "c=np.divide(a,b)"
   ]
  },
  {
   "cell_type": "code",
   "execution_count": 6,
   "metadata": {},
   "outputs": [
    {
     "name": "stdout",
     "output_type": "stream",
     "text": [
      "10000 loops, best of 3: 85 µs per loop\n"
     ]
    }
   ],
   "source": [
    "%%timeit a=np.random.rand(1000);b=np.random.rand(1000);\n",
    "c=np.power(a,b)\n"
   ]
  },
  {
   "cell_type": "code",
   "execution_count": 7,
   "metadata": {},
   "outputs": [
    {
     "name": "stdout",
     "output_type": "stream",
     "text": [
      "The slowest run took 5.33 times longer than the fastest. This could mean that an intermediate result is being cached.\n",
      "10000 loops, best of 3: 26.3 µs per loop\n"
     ]
    }
   ],
   "source": [
    "%%timeit a=np.random.rand(1000)\n",
    "c=np.log(a)"
   ]
  },
  {
   "cell_type": "markdown",
   "metadata": {},
   "source": [
    "Let's look at a more interesting timing.  We compare equivalent expressions for the **Geometric Mean**\n",
    "$$\n",
    "\\left(\\prod_{i=1}^n x_i \\right)^{1/n}\\quad \\mathrm{and} \\quad \\prod_{i=1}^n x_i^{\\frac{1}{n}} $$\n"
   ]
  },
  {
   "cell_type": "code",
   "execution_count": 10,
   "metadata": {},
   "outputs": [
    {
     "name": "stdout",
     "output_type": "stream",
     "text": [
      "The slowest run took 10.72 times longer than the fastest. This could mean that an intermediate result is being cached.\n",
      "100000 loops, best of 3: 6.54 µs per loop\n"
     ]
    }
   ],
   "source": [
    "%%timeit numbers=1000;x=np.random.rand(numbers);b=1.0/numbers\n",
    "np.power(np.prod(x),b)"
   ]
  },
  {
   "cell_type": "markdown",
   "metadata": {},
   "source": [
    "We expect the 2nd algorithm to be much slower as it involves $n$ *power* calls and $n$ multiplies"
   ]
  },
  {
   "cell_type": "code",
   "execution_count": 11,
   "metadata": {},
   "outputs": [
    {
     "name": "stdout",
     "output_type": "stream",
     "text": [
      "10000 loops, best of 3: 28.4 µs per loop\n"
     ]
    }
   ],
   "source": [
    "%%timeit numbers=1000;x=np.random.rand(numbers);b=1.0/numbers\n",
    "np.prod(np.power(x,b))\n"
   ]
  },
  {
   "cell_type": "markdown",
   "metadata": {},
   "source": [
    "But what about accuracy?  Let's actually compute them."
   ]
  },
  {
   "cell_type": "code",
   "execution_count": 12,
   "metadata": {},
   "outputs": [
    {
     "name": "stdout",
     "output_type": "stream",
     "text": [
      "Direct Multiply: 0.0\n",
      "Distributing the Power: 0.379101060529\n"
     ]
    }
   ],
   "source": [
    "numbers=1000\n",
    "x=np.random.rand(numbers)\n",
    "b=1.0/numbers\n",
    "mult_first=np.power(np.prod(x),b)\n",
    "power_first=np.prod(np.power(x,b))\n",
    "\n",
    "print 'Direct Multiply:',mult_first\n",
    "print 'Distributing the Power:',power_first"
   ]
  },
  {
   "cell_type": "markdown",
   "metadata": {},
   "source": [
    "Can we do better?  Recall that  \n",
    "$$ \\log( x_1 x_2 x_3 x_4 \\ldots x_n) = \\log x_1 + \\log x_2 + \\ldots \\log x_n$$\n",
    "so \n",
    "$$ \\left( \\prod_{i=1}^n x_i \\right)^{\\frac{1}{n}}= exp\\left(\\frac{1}{n}\\sum_{i=1}^n \\ln x_i \\right) $$\n",
    "That is, the geometric mean of a set is the exponential of the *mean* of the logarithms of that set."
   ]
  },
  {
   "cell_type": "code",
   "execution_count": 14,
   "metadata": {},
   "outputs": [
    {
     "name": "stdout",
     "output_type": "stream",
     "text": [
      "The slowest run took 5.42 times longer than the fastest. This could mean that an intermediate result is being cached.\n",
      "10000 loops, best of 3: 21 µs per loop\n"
     ]
    }
   ],
   "source": [
    "%%timeit numbers=1000;x=np.random.rand(numbers);b=1.0/numbers\n",
    "np.exp(np.mean(np.log(x)))"
   ]
  },
  {
   "cell_type": "markdown",
   "metadata": {},
   "source": [
    "What about accuracy?"
   ]
  },
  {
   "cell_type": "code",
   "execution_count": 13,
   "metadata": {},
   "outputs": [
    {
     "name": "stdout",
     "output_type": "stream",
     "text": [
      "Logarithmic Addition: 0.379101060529\n"
     ]
    }
   ],
   "source": [
    "log_mult=np.exp(np.mean(np.log(x)))\n",
    "\n",
    "print \"Logarithmic Addition:\",log_mult"
   ]
  },
  {
   "cell_type": "markdown",
   "metadata": {},
   "source": [
    "Can we do even better?  Yes, the downfall of the direct multiply(fastest) is the chance of underflow/overflow via multiplication, which won't (typically) happen for small values of $n$.  Here we use the log strategy on **chunks** of 100 numbers."
   ]
  },
  {
   "cell_type": "code",
   "execution_count": 16,
   "metadata": {},
   "outputs": [
    {
     "name": "stdout",
     "output_type": "stream",
     "text": [
      "The slowest run took 6.50 times longer than the fastest. This could mean that an intermediate result is being cached.\n",
      "100000 loops, best of 3: 12 µs per loop\n"
     ]
    }
   ],
   "source": [
    "%%timeit x=np.random.rand(100,10);b=1/1000.0\n",
    "np.exp(np.sum(np.log(np.prod(x,axis=1)))*b)\n",
    "\n",
    "               \n"
   ]
  },
  {
   "cell_type": "markdown",
   "metadata": {},
   "source": [
    "And the result?"
   ]
  },
  {
   "cell_type": "code",
   "execution_count": 15,
   "metadata": {},
   "outputs": [
    {
     "name": "stdout",
     "output_type": "stream",
     "text": [
      "('With chunking: ', 0.37910106052885856)\n"
     ]
    }
   ],
   "source": [
    "y=np.resize(x,[100,10])\n",
    "chunk_log=np.exp(np.sum(np.log(np.prod(y,axis=1)))*b)\n",
    "\n",
    "print('With chunking: ',chunk_log)"
   ]
  },
  {
   "cell_type": "code",
   "execution_count": null,
   "metadata": {
    "collapsed": true
   },
   "outputs": [],
   "source": []
  }
 ],
 "metadata": {
  "anaconda-cloud": {},
  "kernelspec": {
   "display_name": "Python [conda root]",
   "language": "python",
   "name": "conda-root-py"
  },
  "language_info": {
   "codemirror_mode": {
    "name": "ipython",
    "version": 3
   },
   "file_extension": ".py",
   "mimetype": "text/x-python",
   "name": "python",
   "nbconvert_exporter": "python",
   "pygments_lexer": "ipython3",
   "version": "3.6.1"
  }
 },
 "nbformat": 4,
 "nbformat_minor": 1
}
