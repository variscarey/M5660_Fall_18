{
 "cells": [
  {
   "cell_type": "markdown",
   "metadata": {},
   "source": [
    "In this notebook we examine the convergence of Newton's method for simple and non-simple roots.\n",
    "\n",
    "I've written a package which has several solvers, including Newton's method, called *solvers*.  (Caveat Emptor)"
   ]
  },
  {
   "cell_type": "code",
   "execution_count": 1,
   "metadata": {},
   "outputs": [],
   "source": [
    "import solvers as solv\n",
    "import numpy as np\n",
    "import matplotlib.pyplot as plt\n",
    "%matplotlib inline\n",
    "\n",
    "def xsquared(x):\n",
    "    return x**2\n",
    "\n",
    "def xcubed(x):\n",
    "    return x**3\n",
    "\n",
    "def threex2(x):\n",
    "    return 3*x**2\n",
    "\n",
    "def twox(x):\n",
    "    return 2*x\n",
    "\n",
    "def mycubic(x):\n",
    "    return x**3 -x\n",
    "\n",
    "def myder(x):\n",
    "    return 3*x**2 -1.0\n"
   ]
  },
  {
   "cell_type": "code",
   "execution_count": 2,
   "metadata": {
    "collapsed": true
   },
   "outputs": [],
   "source": [
    "def rofthumb2(sequence):\n",
    "    enplus1=sequence[-1]-sequence[-2]\n",
    "    en=sequence[-2]-sequence[-3]\n",
    "    enminus1=sequence[-3]-sequence[-4]\n",
    "    return np.log(np.absolute(enplus1/en))/np.log(np.absolute(en/enminus1))"
   ]
  },
  {
   "cell_type": "code",
   "execution_count": 5,
   "metadata": {},
   "outputs": [
    {
     "name": "stdout",
     "output_type": "stream",
     "text": [
      "('Residual:', 9.094947017729282e-09)\n",
      "('Iterate=', 9.5367431640625e-05)\n",
      "('Iteration=', 20)\n"
     ]
    }
   ],
   "source": [
    "newt=solv.NewtonSolver(xsquared,twox,guess=100.0,history=True)\n",
    "newt.solve()\n",
    "newt.state()"
   ]
  },
  {
   "cell_type": "code",
   "execution_count": null,
   "metadata": {
    "collapsed": true
   },
   "outputs": [],
   "source": []
  },
  {
   "cell_type": "code",
   "execution_count": 6,
   "metadata": {},
   "outputs": [
    {
     "name": "stdout",
     "output_type": "stream",
     "text": [
      "[1.00000000e+02 5.00000000e+01 2.50000000e+01 1.25000000e+01\n",
      " 6.25000000e+00 3.12500000e+00 1.56250000e+00 7.81250000e-01\n",
      " 3.90625000e-01 1.95312500e-01 9.76562500e-02 4.88281250e-02\n",
      " 2.44140625e-02 1.22070312e-02 6.10351562e-03 3.05175781e-03\n",
      " 1.52587891e-03 7.62939453e-04 3.81469727e-04 1.90734863e-04\n",
      " 9.53674316e-05]\n",
      "1.0\n"
     ]
    }
   ],
   "source": [
    "print(newt.sequence)\n",
    "print(rofthumb2(newt.sequence))"
   ]
  },
  {
   "cell_type": "code",
   "execution_count": 7,
   "metadata": {},
   "outputs": [
    {
     "name": "stdout",
     "output_type": "stream",
     "text": [
      "('Residual:', 24)\n",
      "('Iterate=', 3)\n",
      "('Iteration=', 20)\n"
     ]
    }
   ],
   "source": [
    "newt2=solv.NewtonSolver(mycubic,myder,guess=100,history=True)\n",
    "newt2.solve()\n",
    "newt2.state()"
   ]
  },
  {
   "cell_type": "code",
   "execution_count": 8,
   "metadata": {},
   "outputs": [
    {
     "name": "stdout",
     "output_type": "stream",
     "text": [
      "[100  67  45  31  21  15  11   8   6   5   4   3   3   3   3   3   3   3\n",
      "   3   3   3]\n",
      "nan\n"
     ]
    },
    {
     "name": "stderr",
     "output_type": "stream",
     "text": [
      "/Users/Undertrick/anaconda/envs/py2/lib/python2.7/site-packages/ipykernel/__main__.py:5: RuntimeWarning: divide by zero encountered in long_scalars\n",
      "/Users/Undertrick/anaconda/envs/py2/lib/python2.7/site-packages/ipykernel/__main__.py:5: RuntimeWarning: divide by zero encountered in log\n",
      "/Users/Undertrick/anaconda/envs/py2/lib/python2.7/site-packages/ipykernel/__main__.py:5: RuntimeWarning: invalid value encountered in double_scalars\n"
     ]
    }
   ],
   "source": [
    "print(newt2.sequence)\n",
    "print(rofthumb2(newt2.sequence))"
   ]
  },
  {
   "cell_type": "code",
   "execution_count": 24,
   "metadata": {},
   "outputs": [
    {
     "name": "stdout",
     "output_type": "stream",
     "text": [
      "1.000781148094367\n"
     ]
    }
   ],
   "source": [
    "print(rofthumb2(newt2.sequence[0:6]))\n"
   ]
  },
  {
   "cell_type": "markdown",
   "metadata": {},
   "source": [
    "## To Do\n",
    "\n",
    "Cut and paste code from the Convergence Notebook to determine the convergence rate of Newton's method for the repeated root of $f_1(x)=x^2$ versus the simple root(s) of $f_2(x)=x^3-x$.  \n",
    "\n",
    "Also, look at the convergence rate of Newton's method for $x^p$, $p$ an integer greater than 2.  "
   ]
  },
  {
   "cell_type": "markdown",
   "metadata": {
    "collapsed": true
   },
   "source": [
    "## To Do\n",
    "\n",
    "Repeat for the secant solver."
   ]
  },
  {
   "cell_type": "code",
   "execution_count": 22,
   "metadata": {},
   "outputs": [
    {
     "name": "stdout",
     "output_type": "stream",
     "text": [
      "Residual: 124950\n",
      "Iterate= 50\n",
      "Iteration= 0\n",
      "Residual: 78687.83749390832\n",
      "Iterate= 42.859591976684385\n",
      "Iteration= 1\n",
      "Residual: 28944.437505475482\n",
      "Iterate= 30.71439089351251\n",
      "Iteration= 2\n",
      "Residual: 13199.972241074363\n",
      "Iterate= 23.647402834291658\n",
      "Iteration= 3\n",
      "Residual: 5548.707225511147\n",
      "Iterate= 17.722524177368435\n",
      "Iteration= 4\n",
      "Residual: 2406.5999828353306\n",
      "Iterate= 13.4257945585308\n",
      "Iteration= 5\n",
      "Residual: 1030.867287973855\n",
      "Iterate= 10.134847232959334\n",
      "Iteration= 6\n",
      "Residual: 443.34882618953316\n",
      "Iterate= 7.668866772475863\n",
      "Iteration= 7\n",
      "Residual: 190.11316331914625\n",
      "Iterate= 5.80800687840326\n",
      "Iteration= 8\n",
      "Residual: 81.41302586754264\n",
      "Iterate= 4.410992109843804\n",
      "Iteration= 9\n",
      "Residual: 34.7268210441437\n",
      "Iterate= 3.364671450491296\n",
      "Iteration= 10\n",
      "Residual: 14.714885025214747\n",
      "Iterate= 2.58638179448752\n",
      "Iteration= 11\n",
      "Residual: 6.156308976200764\n",
      "Iterate= 2.0141011918723195\n",
      "Iteration= 12\n",
      "Residual: 2.5124040851843468\n",
      "Iterate= 1.602451381131731\n",
      "Iteration= 13\n",
      "Residual: 0.9741696475558814\n",
      "Iterate= 1.3186265566365083\n",
      "Iteration= 14\n",
      "Residual: 0.3382994039423446\n",
      "Iterate= 1.1388792291274468\n",
      "Iteration= 15\n",
      "Residual: 0.09219033610148286\n",
      "Iterate= 1.0432490052456347\n",
      "Iteration= 16\n",
      "Residual: 0.01501937420816235\n",
      "Iterate= 1.0074267474212095\n",
      "Iteration= 17\n",
      "Residual: 0.000910324262392459\n",
      "Iterate= 1.0004548517489738\n",
      "Iteration= 18\n",
      "Residual: 1.0041894058288037e-05\n",
      "Iterate= 1.0000050209092148\n",
      "Iteration= 19\n",
      "Residual: 6.84763401537225e-09\n",
      "Iterate= 1.000000003423817\n",
      "Iteration= 20\n"
     ]
    }
   ],
   "source": [
    "sect=solv.SecantSolver(mycubic,guess=50,old=100,verbose=True,history=True)\n",
    "sect.solve()\n",
    "sect.state()"
   ]
  },
  {
   "cell_type": "code",
   "execution_count": 15,
   "metadata": {},
   "outputs": [
    {
     "name": "stdout",
     "output_type": "stream",
     "text": [
      "[100.          50.          42.85959198  30.71439089  23.64740283\n",
      "  17.72252418  13.42579456  10.13484723   7.66886677   5.80800688\n",
      "   4.41099211   3.36467145   2.58638179   2.01410119   1.60245138\n",
      "   1.31862656   1.13887923   1.04324901   1.00742675   1.00045485\n",
      "   1.00000502   1.        ]\n"
     ]
    }
   ],
   "source": [
    "print(sect.sequence)"
   ]
  },
  {
   "cell_type": "code",
   "execution_count": 16,
   "metadata": {},
   "outputs": [
    {
     "name": "stdout",
     "output_type": "stream",
     "text": [
      "1.6403935125417934\n"
     ]
    }
   ],
   "source": [
    "print(rofthumb2(sect.sequence))"
   ]
  },
  {
   "cell_type": "markdown",
   "metadata": {},
   "source": [
    "## Divergence of Newton's Method(bad guessing)\n",
    "\n",
    "## To do: \n",
    "\n",
    "Find the root of $xe^{-x}$, with a starting guess of $x_0=2$.\n",
    "\n",
    "Use our convergence theory to predict the range of valid starting guesses.\n",
    "\n"
   ]
  },
  {
   "cell_type": "markdown",
   "metadata": {},
   "source": [
    "## Find the root\n",
    "\n",
    "We know the root to a provided black-box function lies in (-100,100).\n"
   ]
  },
  {
   "cell_type": "code",
   "execution_count": null,
   "metadata": {
    "collapsed": true
   },
   "outputs": [],
   "source": []
  },
  {
   "cell_type": "code",
   "execution_count": 20,
   "metadata": {},
   "outputs": [
    {
     "name": "stdout",
     "output_type": "stream",
     "text": [
      "Residual: -1.5700075572290226\n",
      "Iterate= 0\n",
      "Iteration= 0\n",
      "Residual: -1.5688697567231944\n",
      "Iterate= 4.996994469050914\n",
      "Iteration= 1\n",
      "Residual: -1.569336104018757\n",
      "Iterate= 0.0021371063721034034\n",
      "Iteration= 2\n",
      "Residual: -1.5689050925210106\n",
      "Iterate= 4.997106968497352\n",
      "Iteration= 3\n",
      "Residual: -1.569330966770676\n",
      "Iterate= 0.0021534574926231898\n",
      "Iteration= 4\n",
      "Residual: -1.5689056354367104\n",
      "Iterate= 4.997108696988531\n",
      "Iteration= 5\n",
      "Residual: -1.5693308893683866\n",
      "Iterate= 0.0021537038530023978\n",
      "Iteration= 6\n",
      "Residual: -1.5689056436484\n",
      "Iterate= 4.997108723132245\n",
      "Iteration= 7\n",
      "Residual: -1.5693308881980192\n",
      "Iterate= 0.002153707578113284\n",
      "Iteration= 8\n",
      "Residual: -1.568905643772573\n",
      "Iterate= 4.997108723527577\n",
      "Iteration= 9\n",
      "Residual: -1.5693308881803216\n",
      "Iterate= 0.002153707634443336\n",
      "Iteration= 10\n",
      "Residual: -1.5689056437744509\n",
      "Iterate= 4.997108723533556\n",
      "Iteration= 11\n",
      "Residual: -1.5693308881800538\n",
      "Iterate= 0.002153707635295099\n",
      "Iteration= 12\n",
      "Too many accesses of function!\n"
     ]
    },
    {
     "data": {
      "text/plain": [
       "<bound method NewtonSolver.state of <solvers.NewtonSolver object at 0x117fa05f8>>"
      ]
     },
     "execution_count": 20,
     "metadata": {},
     "output_type": "execute_result"
    }
   ],
   "source": [
    "from secfun import *\n",
    "myfun=secret_func()\n",
    "\n",
    "#Try newton\n",
    "newt1=solv.NewtonSolver(myfun.eval,myfun.deriv,guess=0,verbose=True,history=True)\n",
    "newt1.solve()\n",
    "newt1.state"
   ]
  },
  {
   "cell_type": "code",
   "execution_count": 21,
   "metadata": {},
   "outputs": [
    {
     "name": "stdout",
     "output_type": "stream",
     "text": [
      "[0.00000000e+00 4.99699447e+00 2.13710637e-03 4.99710697e+00\n",
      " 2.15345749e-03 4.99710870e+00 2.15370385e-03 4.99710872e+00\n",
      " 2.15370758e-03 4.99710872e+00 2.15370763e-03 4.99710872e+00\n",
      " 2.15370764e-03 4.99710872e+00]\n"
     ]
    }
   ],
   "source": [
    "print(newt1.sequence)"
   ]
  },
  {
   "cell_type": "code",
   "execution_count": null,
   "metadata": {
    "collapsed": true
   },
   "outputs": [],
   "source": []
  }
 ],
 "metadata": {
  "kernelspec": {
   "display_name": "Python [conda root]",
   "language": "python",
   "name": "conda-root-py"
  },
  "language_info": {
   "codemirror_mode": {
    "name": "ipython",
    "version": 3
   },
   "file_extension": ".py",
   "mimetype": "text/x-python",
   "name": "python",
   "nbconvert_exporter": "python",
   "pygments_lexer": "ipython3",
   "version": "3.6.1"
  }
 },
 "nbformat": 4,
 "nbformat_minor": 2
}
